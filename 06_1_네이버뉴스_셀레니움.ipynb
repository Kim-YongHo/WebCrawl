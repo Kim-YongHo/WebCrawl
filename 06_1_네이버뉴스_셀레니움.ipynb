{
 "cells": [
  {
   "cell_type": "code",
   "execution_count": 1,
   "id": "de670f53",
   "metadata": {},
   "outputs": [],
   "source": [
    "#동적 생성되는 data 크롤링\n",
    "#Selenium 모듈 사용\n",
    "import requests\n",
    "from bs4 import BeautifulSoup\n",
    "from urllib.request import urlopen\n",
    "import selenium\n",
    "from selenium import webdriver"
   ]
  },
  {
   "cell_type": "markdown",
   "id": "1ab266bb",
   "metadata": {},
   "source": [
    "### 관련 메서드\n",
    "- get(url) : url에 문서를 요청하고 응답을 받는 메서드\n",
    "    \n",
    "#### 페이지 단일 element에 접근하는 메서드\n",
    "- find_element_by_name('html_name')\n",
    "- find_element_by_id('html_id')\n",
    "- find_element_by_xpath('패스경로') : 스크립트 실행 경로를 찾아 접근\n",
    "    \n",
    "    \n",
    "#### 페이지의 여러 element에 접근하는 메서드\n",
    "- find_element_by_class_selector('html slelctor')\n",
    "- find_element_by_class_name('html_class')\n",
    "- find_element_by_tag_name('html tag')\n",
    "\n",
    "#### Webdriver 객체 생성\n",
    "- driver = webdriver.Chrome(드라이버경로)\n",
    "\n",
    "#### 접근한 페이지 source 추출\n",
    "- html=driver.page_source"
   ]
  },
  {
   "cell_type": "code",
   "execution_count": 45,
   "id": "abbd0976",
   "metadata": {},
   "outputs": [],
   "source": [
    "# 크롬 드라이버를 통한 네이버 접속\n",
    "\n",
    "driver = webdriver.Chrome(\"./driver/chromedriver\")\n",
    "driver.get(\"https://news.naver.com\")\n"
   ]
  },
  {
   "cell_type": "code",
   "execution_count": null,
   "id": "414c49e8",
   "metadata": {},
   "outputs": [],
   "source": [
    "driver.page_source # 전체 페이지 소스 로딩"
   ]
  },
  {
   "cell_type": "code",
   "execution_count": 18,
   "id": "60595908",
   "metadata": {},
   "outputs": [
    {
     "data": {
      "text/plain": [
       "['801']"
      ]
     },
     "execution_count": 18,
     "metadata": {},
     "output_type": "execute_result"
    }
   ],
   "source": [
    "\n",
    "like_list = driver.find_elements_by_css_selector(\"span.u_likeit_text._count.num\")\n",
    "like_num = [like.text for like in like_list ]\n",
    "like_num"
   ]
  },
  {
   "cell_type": "code",
   "execution_count": null,
   "id": "3a2ab82f",
   "metadata": {},
   "outputs": [],
   "source": [
    "#articleTitleCommentCount > span.lo_txt"
   ]
  },
  {
   "cell_type": "code",
   "execution_count": 22,
   "id": "50c206e7",
   "metadata": {},
   "outputs": [
    {
     "data": {
      "text/plain": [
       "['463']"
      ]
     },
     "execution_count": 22,
     "metadata": {},
     "output_type": "execute_result"
    }
   ],
   "source": [
    "rep_list = driver.find_elements_by_css_selector(\"span.lo_txt\")\n",
    "rep_num = [rep.text for rep in rep_list ]\n",
    "rep_num"
   ]
  },
  {
   "cell_type": "code",
   "execution_count": 52,
   "id": "93dd6ac4",
   "metadata": {},
   "outputs": [],
   "source": [
    "# 전달된 뉴스  url의 기사에서 기사제목 기사입력시간을 반환하는 함수\n",
    "def get_news_sub_info(url) :\n",
    "    \n",
    "    #1.전달된 url에 접속 후 응답객체 반환\n",
    "    headers ={\"User-Agent\" : \n",
    "          \"Mozilla/5.0(Window NT 10.0;Win64;x64) AppleWebKit/537.36 (KHTML,likeGecko) Chrome/87.0.4280.88 Safari/537.36\"}\n",
    "    result = requests.get(url,headers=headers)\n",
    "    \n",
    "    #2.bs4 객체 생성\n",
    "    bs_obj=BeautifulSoup(result.content,\"html.parser\")\n",
    "    \n",
    "    #3.필요 데이터 추출\n",
    "    # 기사 제목 추출(태그객체)\n",
    "    title =bs_obj.find(id='articleTitle')\n",
    "    # 기사 입력시간 추출(태그객체)\n",
    "    date_time = bs_obj.find(\"span\",{\"class\":\"t11\"})\n",
    "    \n",
    "    #4.  webdriver  이용해서 좋아요 수를 반환\n",
    "#     driver = webdriver.Chrome(\"./driver/chromedriver\")\n",
    "    time.sleep(2)\n",
    "    driver.get(url)\n",
    "    driver.page_source\n",
    "    # 좋아요 수\n",
    "    like_list = driver.find_elements_by_css_selector(\"span.u_likeit_text._count.num\")\n",
    "    like_num = [like.text for like in like_list ]\n",
    "    print(like_num)\n",
    "    #댓글 수\n",
    "    rep_list = driver.find_elements_by_css_selector(\"span.lo_txt\")\n",
    "    rep_num = [rep.text for rep in rep_list ]\n",
    "    print(rep_num)\n",
    "    \n",
    "    #5.수집 데이터 dict로 구성 후 반환\n",
    "    dict_sub ={}\n",
    "    dict_sub[\"기사제목\"] = title.text\n",
    "    dict_sub[\"기사 입력 시간\"]=date_time.text\n",
    "    dict_sub['좋아요 수'] = like_num\n",
    "    dict_sub['댓글 수'] =  rep_num\n",
    "    \n",
    "    return dict_sub "
   ]
  },
  {
   "cell_type": "code",
   "execution_count": 53,
   "id": "7076b904",
   "metadata": {},
   "outputs": [
    {
     "name": "stdout",
     "output_type": "stream",
     "text": [
      "['https://news.naver.com//main/read.naver?mode=LSD&mid=shm&sid1=102&oid=052&aid=0001624895', 'https://news.naver.com//main/read.naver?mode=LSD&mid=shm&sid1=102&oid=421&aid=0005530601', 'https://news.naver.com//main/read.naver?mode=LSD&mid=shm&sid1=102&oid=052&aid=0001624778', 'https://news.naver.com//main/read.naver?mode=LSD&mid=shm&sid1=102&oid=001&aid=0012587547', 'https://news.naver.com//main/read.naver?mode=LSD&mid=shm&sid1=101&oid=374&aid=0000253841']\n",
      "['40']\n",
      "['']\n",
      "{'기사제목': \"이재용, 가석방돼도 기업경영활동 못한다 '특사'와 '가석방' 차이는\", '기사 입력 시간': '2021.08.09. 오후 12:55', '좋아요 수': ['40'], '댓글 수': ['']}\n",
      "[]\n",
      "['댓글']\n",
      "{'기사제목': '광주 붕괴사고 질의 정리하는 국토도시실장과 중앙건축물사고조사위 위원장', '기사 입력 시간': '2021.08.09. 오전 10:28', '좋아요 수': [], '댓글 수': ['댓글']}\n",
      "['5']\n",
      "['5']\n",
      "{'기사제목': \"[15초뉴스] 생일 끝자리 '10부제'...대신 예약 안 돼요\", '기사 입력 시간': '2021.08.09. 오전 9:03', '좋아요 수': ['5'], '댓글 수': ['5']}\n",
      "['33']\n",
      "['25']\n",
      "{'기사제목': \"'생후 2주 아들 학대·살해' 친부 징역 25년…친모 징역 7년\", '기사 입력 시간': '2021.08.09. 오전 10:37', '좋아요 수': ['33'], '댓글 수': ['25']}\n",
      "['88']\n",
      "['51']\n",
      "{'기사제목': '“왜 이렇게 높아졌지?”…카뱅 마통 금리 시중은행 중 ‘최고’', '기사 입력 시간': '2021.08.09. 오전 11:47', '좋아요 수': ['88'], '댓글 수': ['51']}\n"
     ]
    }
   ],
   "source": [
    "url = \"https://news.naver.com\"\n",
    "headers={\"User-Agent\":\n",
    "             \"Mozilla/5.0(Window NT 10.0;Win64;x64) AppleWebKit/537.36 (KHTML,likeGecko) Chrome/87.0.4280.88 Safari/537.36\"}\n",
    "result = requests.get(url,headers=headers)\n",
    "\n",
    "bs_obj = BeautifulSoup(result.content,\"html.parser\")\n",
    "\n",
    "#ul 태그 추출 : class:hdline_article_list\n",
    "news_list = bs_obj.find(\"ul\",{\"class\":\"hdline_article_list\"})\n",
    "#모든 li 추출\n",
    "lis = news_list.findAll(\"li\")\n",
    "\n",
    "#헤드라인뉴스 link 저장 - list\n",
    "link_list=[]\n",
    "for li in lis :\n",
    "    a_tag = li.find(\"a\")\n",
    "    link_list.append(\"https://news.naver.com/\"+a_tag[\"href\"])\n",
    "print(link_list)\n",
    "\n",
    "driver = webdriver.Chrome(\"./driver/chromedriver\")\n",
    "import time\n",
    "for number in range(len(link_list)) :\n",
    "    res = get_news_sub_info(link_list[number])\n",
    "    print(res)\n",
    "    time.sleep(2)"
   ]
  },
  {
   "cell_type": "code",
   "execution_count": 51,
   "id": "c6e9b31b",
   "metadata": {},
   "outputs": [
    {
     "name": "stdout",
     "output_type": "stream",
     "text": [
      "['8']\n",
      "['']\n",
      "{'기사제목': '\"기준금리 오르면 신용대출 금리 먼저 상승…\\'빚투\\' 위험관리해야\"', '기사 입력 시간': '2021.08.09. 오전 10:48', '좋아요 수': ['8'], '댓글 수': ['']}\n",
      "[]\n",
      "['']\n",
      "{'기사제목': '5중의 압력이 초래한 광주 해체 사고…“절대 있어서는 안 되는 공사”', '기사 입력 시간': '2021.08.09. 오전 11:58', '좋아요 수': [], '댓글 수': ['']}\n",
      "[]\n",
      "['']\n",
      "{'기사제목': '고성 양돈농가에서 ‘ASF’ 확진…내일까지 이동 중지 명령', '기사 입력 시간': '2021.08.09. 오전 8:18', '좋아요 수': [], '댓글 수': ['']}\n",
      "['18']\n",
      "['']\n",
      "{'기사제목': '쌍용차 인수 나선 에디슨모터스, 사모펀드로 4000억 수혈한다', '기사 입력 시간': '2021.08.09. 오전 10:55', '좋아요 수': ['18'], '댓글 수': ['']}\n",
      "[]\n",
      "['']\n",
      "{'기사제목': '모더나 백신 8월 공급 예정물량 절반도 못온다…접종 계획 차질 불가피', '기사 입력 시간': '2021.08.09. 오후 2:11', '좋아요 수': [], '댓글 수': ['']}\n"
     ]
    }
   ],
   "source": [
    "for number in range(len(link_list)) :\n",
    "    res = get_news_sub_info(link_list[number])\n",
    "    print(res)"
   ]
  },
  {
   "cell_type": "code",
   "execution_count": null,
   "id": "75dbb05b",
   "metadata": {},
   "outputs": [],
   "source": []
  }
 ],
 "metadata": {
  "kernelspec": {
   "display_name": "Python 3",
   "language": "python",
   "name": "python3"
  },
  "language_info": {
   "codemirror_mode": {
    "name": "ipython",
    "version": 3
   },
   "file_extension": ".py",
   "mimetype": "text/x-python",
   "name": "python",
   "nbconvert_exporter": "python",
   "pygments_lexer": "ipython3",
   "version": "3.8.8"
  }
 },
 "nbformat": 4,
 "nbformat_minor": 5
}
