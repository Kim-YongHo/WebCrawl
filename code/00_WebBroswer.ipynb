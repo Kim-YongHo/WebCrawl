{
 "cells": [
  {
   "cell_type": "markdown",
   "id": "b3127895",
   "metadata": {},
   "source": [
    "## 파이썬 코드를 통해 브라우저 핸들링\n",
    "- 브라우저 열기\n",
    "- 검색어 전송"
   ]
  },
  {
   "cell_type": "code",
   "execution_count": 1,
   "id": "55858235",
   "metadata": {},
   "outputs": [],
   "source": [
    "## 브라우저 모듈 import\n",
    "import webbrowser"
   ]
  },
  {
   "cell_type": "code",
   "execution_count": 2,
   "id": "e363a147",
   "metadata": {},
   "outputs": [
    {
     "data": {
      "text/plain": [
       "True"
      ]
     },
     "execution_count": 2,
     "metadata": {},
     "output_type": "execute_result"
    }
   ],
   "source": [
    "## 브라우저를 코드로 열기\n",
    "## webbroser.open(사이트 Url)\n",
    "\n",
    "url = 'www.naver.com'\n",
    "webbrowser.open(url)"
   ]
  },
  {
   "cell_type": "markdown",
   "id": "c6c167f3",
   "metadata": {},
   "source": [
    "## url과 검색어 적용 시키기\n",
    "- 검색어 적용하는 법은 각 site마다 상이하므로 확인 필요\n",
    "- ex. https://search.naver.com/search.naver?where=nexearch&sm=top_hty&fbm=1&ie=utf8&query=python\n",
    "- 위 url 분리\n",
    "    - https://search.naver.com/search.naver : 실제 접근할 서버 주소\n",
    "    - ? : 주소와 서버로 전송되는 data의 경계 기호\n",
    "    - where=nexearch&sm=top_hty&fbm=1&ie=utf8&query=python : 클라이언트 측에서 서버로 전송되는 변수와 값\n",
    "        - 변수=값 & 변수2=값2 & ...\n",
    "    - query= : 사용자가 입력한 검색어를 저장해서 서버로 전송하는 변수(필수 변수)"
   ]
  },
  {
   "cell_type": "code",
   "execution_count": 4,
   "id": "bd1eabf6",
   "metadata": {},
   "outputs": [
    {
     "data": {
      "text/plain": [
       "True"
      ]
     },
     "execution_count": 4,
     "metadata": {},
     "output_type": "execute_result"
    }
   ],
   "source": [
    "naver_search_url = 'https://search.naver.com/search.naver?query='\n",
    "search_word = '파이썬'\n",
    "\n",
    "url = naver_search_url + search_word\n",
    "\n",
    "webbrowser.open(url)"
   ]
  },
  {
   "cell_type": "code",
   "execution_count": 10,
   "id": "56e12927",
   "metadata": {},
   "outputs": [
    {
     "data": {
      "text/plain": [
       "True"
      ]
     },
     "execution_count": 10,
     "metadata": {},
     "output_type": "execute_result"
    }
   ],
   "source": [
    "webbrowser.open('https://search.naver.com/search.naver?where=nexearch&sm=top_hty&fbm=1&ie=utf8&query=python')"
   ]
  },
  {
   "cell_type": "code",
   "execution_count": 4,
   "id": "38dc18aa",
   "metadata": {},
   "outputs": [
    {
     "data": {
      "text/plain": [
       "True"
      ]
     },
     "execution_count": 4,
     "metadata": {},
     "output_type": "execute_result"
    }
   ],
   "source": [
    "## 구글사이트\n",
    "## google_url = 'https://www.google.com/#q='  //옛날에 사용했던 url 현재 사용 X\n",
    "\n",
    "google_url = 'https://www.google.com/search?q='\n",
    "search_word = '올릭픽'\n",
    "\n",
    "url = google_url + search_word\n",
    "\n",
    "webbrowser.open(url)"
   ]
  },
  {
   "cell_type": "code",
   "execution_count": 5,
   "id": "14456dad",
   "metadata": {},
   "outputs": [],
   "source": [
    "urls = ['www.naver.com', 'www.daum.net', 'www.google.com']\n",
    "\n",
    "for url in urls:\n",
    "    webbrowser.open_new(url)\n"
   ]
  },
  {
   "cell_type": "code",
   "execution_count": null,
   "id": "78c119bc",
   "metadata": {},
   "outputs": [],
   "source": []
  }
 ],
 "metadata": {
  "kernelspec": {
   "display_name": "Python 3",
   "language": "python",
   "name": "python3"
  },
  "language_info": {
   "codemirror_mode": {
    "name": "ipython",
    "version": 3
   },
   "file_extension": ".py",
   "mimetype": "text/x-python",
   "name": "python",
   "nbconvert_exporter": "python",
   "pygments_lexer": "ipython3",
   "version": "3.8.8"
  }
 },
 "nbformat": 4,
 "nbformat_minor": 5
}
