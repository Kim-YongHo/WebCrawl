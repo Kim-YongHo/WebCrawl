{
 "cells": [
  {
   "cell_type": "code",
   "execution_count": 1,
   "id": "02d4a459",
   "metadata": {},
   "outputs": [],
   "source": [
    "from urllib.request import urlopen\n",
    "from bs4 import BeautifulSoup\n",
    "import pandas as pd\n",
    "import numpy as np"
   ]
  },
  {
   "cell_type": "code",
   "execution_count": 2,
   "id": "dd3872e3",
   "metadata": {},
   "outputs": [],
   "source": [
    "# 크롤링 문서를 요청해서 응답 객체 생성\n",
    "url=\"http://jolse.com/category/toners-mists/1019/\"\n",
    "\n",
    "html = urlopen(url)\n",
    "htmls = html.read()\n",
    "\n",
    "bs_obj = BeautifulSoup(htmls,\"html.parser\")"
   ]
  },
  {
   "cell_type": "code",
   "execution_count": 5,
   "id": "e86613e9",
   "metadata": {},
   "outputs": [],
   "source": [
    "## 한 페이지에 모든 상품이 들어있는 ul 태그 추출\n",
    "# ul class:prdList grid4\n",
    "ul=bs_obj.find(\"ul\",{\"class\":\"prdList grid4\"})\n",
    "## 품목 1개를 담고 있는 div 태그 추출\n",
    "## div class:box\n",
    "prd_boxes = ul.findAll(\"div\", {\"class\":\"box\"})\n"
   ]
  },
  {
   "cell_type": "code",
   "execution_count": 6,
   "id": "f6dc7b17",
   "metadata": {},
   "outputs": [],
   "source": [
    "# box 안에 들어 있는 1개의 상품에서 정보 추출해서 dict 형태로 반환하는 함수 \n",
    "\n",
    "def get_product_info(box):\n",
    "    \n",
    "    p_tag = box.find(\"p\",{\"class\":\"name\"})\n",
    "    span = p_tag.find(\"span\")\n",
    "    \n",
    "    # 가격 추출 코드\n",
    "    price_ul = box.find(\"ul\")\n",
    "    price_span = price_ul.findAll(\"span\")\n",
    "    # 최종 data 추출 후 출력\n",
    "    \n",
    "    return {'prd_name':span.text, 'price':price_span[1].text, 'sale_price':price_span[-1].text}\n"
   ]
  },
  {
   "cell_type": "code",
   "execution_count": 8,
   "id": "af02301f",
   "metadata": {},
   "outputs": [],
   "source": [
    "# 전달된 url 페이지에 접근해서 해당 페이지의 전체 상품 데이터를 추출\n",
    "# 각 상품마다  get_product_info() 호출해서  받아온 정보를 리스트에 저장\n",
    "\n",
    "def get_page_products(url):\n",
    "    url = url\n",
    "    html = urlopen(url)\n",
    "    htmls = html.read()\n",
    "\n",
    "    bs_obj = BeautifulSoup(htmls,\"html.parser\")\n",
    "\n",
    "    ## 한 페이지에 모든 상품이 들어있는 ul 태그 추출\n",
    "    # ul class:prdList grid4\n",
    "    ul=bs_obj.find(\"ul\",{\"class\":\"prdList grid4\"})\n",
    "    ## 품목 1개를 담고 있는 div 태그 추출\n",
    "    ## div class:box\n",
    "    prd_boxes = ul.findAll(\"div\", {\"class\":\"box\"}) # 1개 페이지의 전체 상품\n",
    "    prod_info_list = [get_product_info(box) for box in prd_boxes] # 현재 함수를 통해 접속한 문서(url 인수)의 각 화장품 정보가 저장된 리스트\n",
    "    \n",
    "    return prod_info_list\n"
   ]
  },
  {
   "cell_type": "code",
   "execution_count": 21,
   "id": "6091c43a",
   "metadata": {},
   "outputs": [
    {
     "data": {
      "text/html": [
       "<div>\n",
       "<style scoped>\n",
       "    .dataframe tbody tr th:only-of-type {\n",
       "        vertical-align: middle;\n",
       "    }\n",
       "\n",
       "    .dataframe tbody tr th {\n",
       "        vertical-align: top;\n",
       "    }\n",
       "\n",
       "    .dataframe thead th {\n",
       "        text-align: right;\n",
       "    }\n",
       "</style>\n",
       "<table border=\"1\" class=\"dataframe\">\n",
       "  <thead>\n",
       "    <tr style=\"text-align: right;\">\n",
       "      <th></th>\n",
       "      <th>prd_name</th>\n",
       "      <th>price</th>\n",
       "      <th>sale_price</th>\n",
       "    </tr>\n",
       "  </thead>\n",
       "  <tbody>\n",
       "    <tr>\n",
       "      <th>0</th>\n",
       "      <td>Isntree Hyaluronic Acid Toner 200ml (Renewal)</td>\n",
       "      <td>USD 19.00</td>\n",
       "      <td>USD 13.99</td>\n",
       "    </tr>\n",
       "    <tr>\n",
       "      <th>1</th>\n",
       "      <td>SON&amp;PARK BEAUTY WATER 340ml</td>\n",
       "      <td>USD 29.40</td>\n",
       "      <td>USD 24.99</td>\n",
       "    </tr>\n",
       "    <tr>\n",
       "      <th>2</th>\n",
       "      <td>SOME BY MI AHA BHA PHA 30 Days Miracle Toner 1...</td>\n",
       "      <td>USD 24.00</td>\n",
       "      <td>USD 13.99</td>\n",
       "    </tr>\n",
       "    <tr>\n",
       "      <th>3</th>\n",
       "      <td>SOME BY MI Galactomyces Pure Vitamin C Glow To...</td>\n",
       "      <td>USD 34.00</td>\n",
       "      <td>USD 17.99</td>\n",
       "    </tr>\n",
       "    <tr>\n",
       "      <th>4</th>\n",
       "      <td>PURITO Centella Green Level Calming Toner 200ml</td>\n",
       "      <td>USD 25.20</td>\n",
       "      <td>USD 21.42</td>\n",
       "    </tr>\n",
       "  </tbody>\n",
       "</table>\n",
       "</div>"
      ],
      "text/plain": [
       "                                            prd_name      price sale_price\n",
       "0      Isntree Hyaluronic Acid Toner 200ml (Renewal)  USD 19.00  USD 13.99\n",
       "1                        SON&PARK BEAUTY WATER 340ml  USD 29.40  USD 24.99\n",
       "2  SOME BY MI AHA BHA PHA 30 Days Miracle Toner 1...  USD 24.00  USD 13.99\n",
       "3  SOME BY MI Galactomyces Pure Vitamin C Glow To...  USD 34.00  USD 17.99\n",
       "4    PURITO Centella Green Level Calming Toner 200ml  USD 25.20  USD 21.42"
      ]
     },
     "execution_count": 21,
     "metadata": {},
     "output_type": "execute_result"
    }
   ],
   "source": [
    "#여러 페이지의 화장품 정보를 추출해서 df에 저장 후 csv에 저장하는 코드\n",
    "\n",
    "url = \"http://jolse.com/category/toners-mists/1019/?page=\"\n",
    "#페이지 번호를 제외한 공통 url 문자열 \n",
    "\n",
    "df_fin = pd.DataFrame()\n",
    "\n",
    "for i in range(1,6):\n",
    "    urlfin = url + str(i)\n",
    "    page_product = get_page_products(urlfin)\n",
    "    df=pd.DataFrame(page_product) # 현재 url로 접속한 페이지에 대한 수집된 제품정보를 df로 생성 (한개 페이지)\n",
    "    df_fin = pd.concat([df_fin, df], axis=0, ignore_index=True) ## 행으로 계속 추가해서 하나의 df 만들어줌\n",
    "\n",
    "df_fin.head()"
   ]
  },
  {
   "cell_type": "code",
   "execution_count": 23,
   "id": "623ab068",
   "metadata": {},
   "outputs": [
    {
     "data": {
      "text/plain": [
       "(240, 3)"
      ]
     },
     "execution_count": 23,
     "metadata": {},
     "output_type": "execute_result"
    }
   ],
   "source": [
    "df_fin.shape"
   ]
  },
  {
   "cell_type": "code",
   "execution_count": 24,
   "id": "c44c8a5d",
   "metadata": {},
   "outputs": [],
   "source": [
    "df_fin.to_csv('./crawl_data/prod0805ALL.csv')"
   ]
  },
  {
   "cell_type": "code",
   "execution_count": null,
   "id": "972c67ad",
   "metadata": {},
   "outputs": [],
   "source": []
  },
  {
   "cell_type": "markdown",
   "id": "65144c87",
   "metadata": {},
   "source": [
    "## 연습문제 "
   ]
  },
  {
   "cell_type": "markdown",
   "id": "e61d2b4c",
   "metadata": {},
   "source": [
    "1. --- 품목 상세보기 링크도 추가해서 크롤링\n",
    "2. --- 사이트내에서 전체페이지를 확인할 수 있는 태그가 있는지 검사하고 해당 태그에서 총 페이지를 추출한 후\n",
    "--- 전체 페이지를 크롤링 할 수 있는 프로그램으로 변경\n"
   ]
  },
  {
   "cell_type": "code",
   "execution_count": null,
   "id": "ebfa6e33",
   "metadata": {},
   "outputs": [],
   "source": []
  },
  {
   "cell_type": "code",
   "execution_count": null,
   "id": "93880ced",
   "metadata": {},
   "outputs": [],
   "source": []
  },
  {
   "cell_type": "code",
   "execution_count": null,
   "id": "91451431",
   "metadata": {},
   "outputs": [],
   "source": []
  },
  {
   "cell_type": "code",
   "execution_count": null,
   "id": "4dc37198",
   "metadata": {},
   "outputs": [],
   "source": []
  },
  {
   "cell_type": "code",
   "execution_count": null,
   "id": "3d7e89d9",
   "metadata": {},
   "outputs": [],
   "source": []
  }
 ],
 "metadata": {
  "kernelspec": {
   "display_name": "Python 3",
   "language": "python",
   "name": "python3"
  },
  "language_info": {
   "codemirror_mode": {
    "name": "ipython",
    "version": 3
   },
   "file_extension": ".py",
   "mimetype": "text/x-python",
   "name": "python",
   "nbconvert_exporter": "python",
   "pygments_lexer": "ipython3",
   "version": "3.8.8"
  }
 },
 "nbformat": 4,
 "nbformat_minor": 5
}
