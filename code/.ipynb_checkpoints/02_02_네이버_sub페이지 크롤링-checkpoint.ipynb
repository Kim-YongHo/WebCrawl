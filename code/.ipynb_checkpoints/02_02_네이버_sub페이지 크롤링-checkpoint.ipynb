{
 "cells": [
  {
   "cell_type": "markdown",
   "id": "dd3ee574",
   "metadata": {},
   "source": [
    "## 네이버 뉴스 sub 페이지 크롤링\n",
    "- 한개의 sub 페이지 크롤링한 후 함수로 재구성\n",
    "- 02_1번에서 수집된 데이터를 이용해서 여러 subpage크롤링"
   ]
  },
  {
   "cell_type": "code",
   "execution_count": 33,
   "id": "a750a135",
   "metadata": {},
   "outputs": [],
   "source": [
    "import requests\n",
    "from bs4 import BeautifulSoup\n",
    "import bs4\n",
    "from urllib.request import urlopen\n"
   ]
  },
  {
   "cell_type": "code",
   "execution_count": 34,
   "id": "edc78bba",
   "metadata": {},
   "outputs": [],
   "source": [
    "from IPython.core.interactiveshell import InteractiveShell\n",
    "InteractiveShell.ast_node_interactivity=\"all\""
   ]
  },
  {
   "cell_type": "code",
   "execution_count": 35,
   "id": "3802cc86",
   "metadata": {},
   "outputs": [],
   "source": [
    "# 뉴스 sub 페이지 문서 코드 받아오기\n",
    "\n",
    "headers = {'User-Agent':\n",
    "           \"Mozilla/5.0(Window NT 10.0;Win64;x64) AppleWebKit/537.36 (KHTML,likeGecko) Chrome/87.0.4280.88 Safari/537.36\"}\n",
    "url = \"https://news.naver.com/main/read.naver?mode=LPOD&mid=sec&oid=001&aid=0012576808\"\n",
    "result = requests.get(url, headers=headers)\n"
   ]
  },
  {
   "cell_type": "code",
   "execution_count": 36,
   "id": "a45c0233",
   "metadata": {},
   "outputs": [
    {
     "data": {
      "text/plain": [
       "<Response [200]>"
      ]
     },
     "execution_count": 36,
     "metadata": {},
     "output_type": "execute_result"
    }
   ],
   "source": [
    "result"
   ]
  },
  {
   "cell_type": "code",
   "execution_count": 22,
   "id": "7c898c49",
   "metadata": {},
   "outputs": [],
   "source": [
    "#result.content # 전송된 소스코드를 반환\n",
    "#result.text # 전송된 소스코드를 문자열로 반환"
   ]
  },
  {
   "cell_type": "code",
   "execution_count": 50,
   "id": "c4019075",
   "metadata": {},
   "outputs": [
    {
     "data": {
      "text/plain": [
       "<h3 id=\"articleTitle\">내년도 백신도입 협상 마무리 단계…화이자·모더나 5천만회분(종합)</h3>"
      ]
     },
     "execution_count": 50,
     "metadata": {},
     "output_type": "execute_result"
    },
    {
     "data": {
      "text/plain": [
       "<span class=\"t11\">2021.08.04. 오후 12:10</span>"
      ]
     },
     "execution_count": 50,
     "metadata": {},
     "output_type": "execute_result"
    }
   ],
   "source": [
    "bs_obj = BeautifulSoup(result.content,'html.parser')\n",
    "#기사 제목 추출\n",
    "title = bs_obj.find(id='articleTitle')\n",
    "title\n",
    "date_time = bs_obj.find('span', {'class':'t11'})\n",
    "date_time\n"
   ]
  },
  {
   "cell_type": "markdown",
   "id": "d0c981f3",
   "metadata": {},
   "source": [
    "## 개발자 도구의 copy selector 사용법\n",
    "- 크롤링하려는 컨텐츠에서 검사 -> 해당 주소에서 단축 메뉴 -> copy -> copy selector\n",
    "    - 붙여넣기하면 선택자를 반환해주는데 선택된 내용이 없는 경우가 있음\n",
    "        - 잘못된 선택자를 생성했을 경우 - 선택자 재구성\n",
    "        - 네이버 뉴스 서브페이지의 좋아요 수와 기사 댓글 수는 동적 생성되어서 정적 크롤링 불가능\n",
    "        - 셀레니움이라는 패키지를 사용해야 함"
   ]
  },
  {
   "cell_type": "code",
   "execution_count": 58,
   "id": "558b7e07",
   "metadata": {},
   "outputs": [],
   "source": [
    "# sub 페이지에서 수집된 데이터를 반환하는 함수 작성 (서브페이지 url을 파라미터로 전달받음)\n",
    "\n",
    "def get_news_sub_info(url):\n",
    "    \n",
    "    #1. 전달된 url에 접속 후 응답객체 반환\n",
    "    headers = {'User-Agent':\n",
    "               \"Mozilla/5.0(Window NT 10.0;Win64;x64) AppleWebKit/537.36 (KHTML,likeGecko) Chrome/87.0.4280.88 Safari/537.36\"}\n",
    "    result = requests.get(url, headers=headers)\n",
    "    \n",
    "    #2. bs4 객체 생성\n",
    "    bs_obj = BeautifulSoup(result.content, 'html.parser')\n",
    "    \n",
    "    #3. 필요 데이터 추출\n",
    "    # 기사 제목 추출(태그객체)\n",
    "    title = bs_obj.find(id='articleTitle')\n",
    "    date_time = bs_obj.find('span', {'class':'t11'})\n",
    "    \n",
    "    #4. 수집 데이터 dict로 구성 후 반환\n",
    "    dict_sub = {}\n",
    "    dict_sub['기사제목'] = title.text\n",
    "    dict_sub['기사 입력 시간'] = date_time.text\n",
    "    \n",
    "    return dict_sub\n",
    "    \n",
    "    "
   ]
  },
  {
   "cell_type": "code",
   "execution_count": null,
   "id": "20ebe689",
   "metadata": {},
   "outputs": [],
   "source": [
    "## main : 함수 호출 코드\n"
   ]
  },
  {
   "cell_type": "code",
   "execution_count": 54,
   "id": "e66a995f",
   "metadata": {},
   "outputs": [],
   "source": [
    "\n"
   ]
  },
  {
   "cell_type": "code",
   "execution_count": 51,
   "id": "ef22e543",
   "metadata": {},
   "outputs": [],
   "source": []
  },
  {
   "cell_type": "code",
   "execution_count": 62,
   "id": "b2cbe978",
   "metadata": {},
   "outputs": [
    {
     "name": "stdout",
     "output_type": "stream",
     "text": [
      "{'기사제목': '이낙연 “성남 서울공항 옮기고 주변 고도 풀어 7만가구 공급”', '기사 입력 시간': '2021.08.04. 오전 11:57'}\n",
      "{'기사제목': '故박원순 유족 측 \"\\'성추행 발언\\' 진중권, 사자명예훼손 혐의로 고소할 것\"', '기사 입력 시간': '2021.08.04. 오전 11:01'}\n",
      "{'기사제목': '송영길 \"개성공단, 남북미 신뢰 구축 대들보…北 제2의 베트남으로\"', '기사 입력 시간': '2021.08.04. 오전 10:25'}\n",
      "{'기사제목': '학부모 퇴근 시간 맞춰 초등돌봄 아동 오후 7시까지 돌봄교실에 머문다', '기사 입력 시간': '2021.08.04. 오후 2:01'}\n",
      "{'기사제목': '최재형 “무너져가는 대한민국 지켜만 보고 있을 수 없어”', '기사 입력 시간': '2021.08.04. 오후 2:05'}\n"
     ]
    }
   ],
   "source": [
    "headers = {'User-Agent':\n",
    "           \"Mozilla/5.0(Window NT 10.0;Win64;x64) AppleWebKit/537.36 (KHTML,likeGecko) Chrome/87.0.4280.88 Safari/537.36\"}\n",
    "url = \"https://news.naver.com\"\n",
    "\n",
    "res = requests.get(url, headers=headers)\n",
    "\n",
    "html = res.text\n",
    "\n",
    "bs_obj = BeautifulSoup(html, 'html.parser')\n",
    "\n",
    "# 헤드라인 뉴스의 구성 ul, class : hdline_article_list\n",
    "news_list = bs_obj.find(\"ul\", {\"class\": \"hdline_article_list\"})\n",
    "# news_list\n",
    "\n",
    "# 모든 li 추출\n",
    "lis = news_list.findAll(\"li\")\n",
    "\n",
    "link_list=[]\n",
    "\n",
    "# 뉴스 제목 출력 : \n",
    "for li in lis :\n",
    "    a_tag = li.find(\"a\")\n",
    "    link_list.append('https://news.naver.com' + a_tag['href'])\n",
    "\n",
    "# link_list\n",
    "for url in link_list:\n",
    "    res = get_news_sub_info(url)\n",
    "    print(res)"
   ]
  },
  {
   "cell_type": "code",
   "execution_count": null,
   "id": "666b1666",
   "metadata": {},
   "outputs": [],
   "source": []
  }
 ],
 "metadata": {
  "kernelspec": {
   "display_name": "Python 3",
   "language": "python",
   "name": "python3"
  },
  "language_info": {
   "codemirror_mode": {
    "name": "ipython",
    "version": 3
   },
   "file_extension": ".py",
   "mimetype": "text/x-python",
   "name": "python",
   "nbconvert_exporter": "python",
   "pygments_lexer": "ipython3",
   "version": "3.8.8"
  }
 },
 "nbformat": 4,
 "nbformat_minor": 5
}
