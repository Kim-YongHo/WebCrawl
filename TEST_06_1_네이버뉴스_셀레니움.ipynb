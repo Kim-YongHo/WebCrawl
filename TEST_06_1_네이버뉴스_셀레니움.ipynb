{
 "cells": [
  {
   "cell_type": "code",
   "execution_count": 3,
   "id": "196ad919",
   "metadata": {},
   "outputs": [],
   "source": [
    "#동적 생성되는 data 크롤링\n",
    "#Selenium 모듈 사용\n",
    "import requests\n",
    "from bs4 import BeautifulSoup\n",
    "from urllib.request import urlopen\n",
    "import selenium\n",
    "from selenium import webdriver"
   ]
  },
  {
   "cell_type": "markdown",
   "id": "7bf4a074",
   "metadata": {},
   "source": [
    "### 관련 메서드\n",
    "- get(url) : url에 문서를 요청하고 응답을 받는 메서드\n",
    "    \n",
    "#### 페이지 단일 element에 접근하는 메서드\n",
    "- find_element_by_name('html_name')\n",
    "- find_element_by_id('html_id')\n",
    "- find_element_by_xpath('패스경로') : 스크립트 실행 경로를 찾아 접근\n",
    "    \n",
    "    \n",
    "#### 페이지의 여러 element에 접근하는 메서드\n",
    "- find_element_by_class_selector('html slelctor')\n",
    "- find_element_by_class_name('html_class')\n",
    "- find_element_by_tag_name('html tag')\n",
    "\n",
    "#### Webdriver 객체 생성\n",
    "- driver = webdriver.Chrome(드라이버경로)\n",
    "\n",
    "#### 접근한 페이지 source 추출\n",
    "- html=driver.page_source"
   ]
  },
  {
   "cell_type": "code",
   "execution_count": 4,
   "id": "3897341d",
   "metadata": {},
   "outputs": [
    {
     "ename": "WebDriverException",
     "evalue": "Message: 'chromedriver' executable needs to be in PATH. Please see https://sites.google.com/a/chromium.org/chromedriver/home\n",
     "output_type": "error",
     "traceback": [
      "\u001b[1;31m---------------------------------------------------------------------------\u001b[0m",
      "\u001b[1;31mFileNotFoundError\u001b[0m                         Traceback (most recent call last)",
      "\u001b[1;32mC:\\ProgramData\\Anaconda3\\lib\\site-packages\\selenium\\webdriver\\common\\service.py\u001b[0m in \u001b[0;36mstart\u001b[1;34m(self)\u001b[0m\n\u001b[0;32m     71\u001b[0m             \u001b[0mcmd\u001b[0m\u001b[1;33m.\u001b[0m\u001b[0mextend\u001b[0m\u001b[1;33m(\u001b[0m\u001b[0mself\u001b[0m\u001b[1;33m.\u001b[0m\u001b[0mcommand_line_args\u001b[0m\u001b[1;33m(\u001b[0m\u001b[1;33m)\u001b[0m\u001b[1;33m)\u001b[0m\u001b[1;33m\u001b[0m\u001b[1;33m\u001b[0m\u001b[0m\n\u001b[1;32m---> 72\u001b[1;33m             self.process = subprocess.Popen(cmd, env=self.env,\n\u001b[0m\u001b[0;32m     73\u001b[0m                                             \u001b[0mclose_fds\u001b[0m\u001b[1;33m=\u001b[0m\u001b[0mplatform\u001b[0m\u001b[1;33m.\u001b[0m\u001b[0msystem\u001b[0m\u001b[1;33m(\u001b[0m\u001b[1;33m)\u001b[0m \u001b[1;33m!=\u001b[0m \u001b[1;34m'Windows'\u001b[0m\u001b[1;33m,\u001b[0m\u001b[1;33m\u001b[0m\u001b[1;33m\u001b[0m\u001b[0m\n",
      "\u001b[1;32mC:\\ProgramData\\Anaconda3\\lib\\subprocess.py\u001b[0m in \u001b[0;36m__init__\u001b[1;34m(self, args, bufsize, executable, stdin, stdout, stderr, preexec_fn, close_fds, shell, cwd, env, universal_newlines, startupinfo, creationflags, restore_signals, start_new_session, pass_fds, encoding, errors, text)\u001b[0m\n\u001b[0;32m    857\u001b[0m \u001b[1;33m\u001b[0m\u001b[0m\n\u001b[1;32m--> 858\u001b[1;33m             self._execute_child(args, executable, preexec_fn, close_fds,\n\u001b[0m\u001b[0;32m    859\u001b[0m                                 \u001b[0mpass_fds\u001b[0m\u001b[1;33m,\u001b[0m \u001b[0mcwd\u001b[0m\u001b[1;33m,\u001b[0m \u001b[0menv\u001b[0m\u001b[1;33m,\u001b[0m\u001b[1;33m\u001b[0m\u001b[1;33m\u001b[0m\u001b[0m\n",
      "\u001b[1;32mC:\\ProgramData\\Anaconda3\\lib\\subprocess.py\u001b[0m in \u001b[0;36m_execute_child\u001b[1;34m(self, args, executable, preexec_fn, close_fds, pass_fds, cwd, env, startupinfo, creationflags, shell, p2cread, p2cwrite, c2pread, c2pwrite, errread, errwrite, unused_restore_signals, unused_start_new_session)\u001b[0m\n\u001b[0;32m   1310\u001b[0m             \u001b[1;32mtry\u001b[0m\u001b[1;33m:\u001b[0m\u001b[1;33m\u001b[0m\u001b[1;33m\u001b[0m\u001b[0m\n\u001b[1;32m-> 1311\u001b[1;33m                 hp, ht, pid, tid = _winapi.CreateProcess(executable, args,\n\u001b[0m\u001b[0;32m   1312\u001b[0m                                          \u001b[1;31m# no special security\u001b[0m\u001b[1;33m\u001b[0m\u001b[1;33m\u001b[0m\u001b[1;33m\u001b[0m\u001b[0m\n",
      "\u001b[1;31mFileNotFoundError\u001b[0m: [WinError 2] 지정된 파일을 찾을 수 없습니다",
      "\nDuring handling of the above exception, another exception occurred:\n",
      "\u001b[1;31mWebDriverException\u001b[0m                        Traceback (most recent call last)",
      "\u001b[1;32m<ipython-input-4-df27d86ae599>\u001b[0m in \u001b[0;36m<module>\u001b[1;34m\u001b[0m\n\u001b[0;32m      1\u001b[0m \u001b[1;31m# 크롬 드라이버를 통한 네이버 접속\u001b[0m\u001b[1;33m\u001b[0m\u001b[1;33m\u001b[0m\u001b[1;33m\u001b[0m\u001b[0m\n\u001b[0;32m      2\u001b[0m \u001b[1;33m\u001b[0m\u001b[0m\n\u001b[1;32m----> 3\u001b[1;33m \u001b[0mdriver\u001b[0m \u001b[1;33m=\u001b[0m \u001b[0mwebdriver\u001b[0m\u001b[1;33m.\u001b[0m\u001b[0mChrome\u001b[0m\u001b[1;33m(\u001b[0m\u001b[1;34m\"./driver/chromedriver\"\u001b[0m\u001b[1;33m)\u001b[0m\u001b[1;33m\u001b[0m\u001b[1;33m\u001b[0m\u001b[0m\n\u001b[0m\u001b[0;32m      4\u001b[0m \u001b[0mdriver\u001b[0m\u001b[1;33m.\u001b[0m\u001b[0mget\u001b[0m\u001b[1;33m(\u001b[0m\u001b[1;34m\"https://news.naver.com//main/read.naver?mode=LSD&mid=shm&sid1=102&oid=001&aid=0012587876\"\u001b[0m\u001b[1;33m)\u001b[0m\u001b[1;33m\u001b[0m\u001b[1;33m\u001b[0m\u001b[0m\n",
      "\u001b[1;32mC:\\ProgramData\\Anaconda3\\lib\\site-packages\\selenium\\webdriver\\chrome\\webdriver.py\u001b[0m in \u001b[0;36m__init__\u001b[1;34m(self, executable_path, port, options, service_args, desired_capabilities, service_log_path, chrome_options, keep_alive)\u001b[0m\n\u001b[0;32m     71\u001b[0m             \u001b[0mservice_args\u001b[0m\u001b[1;33m=\u001b[0m\u001b[0mservice_args\u001b[0m\u001b[1;33m,\u001b[0m\u001b[1;33m\u001b[0m\u001b[1;33m\u001b[0m\u001b[0m\n\u001b[0;32m     72\u001b[0m             log_path=service_log_path)\n\u001b[1;32m---> 73\u001b[1;33m         \u001b[0mself\u001b[0m\u001b[1;33m.\u001b[0m\u001b[0mservice\u001b[0m\u001b[1;33m.\u001b[0m\u001b[0mstart\u001b[0m\u001b[1;33m(\u001b[0m\u001b[1;33m)\u001b[0m\u001b[1;33m\u001b[0m\u001b[1;33m\u001b[0m\u001b[0m\n\u001b[0m\u001b[0;32m     74\u001b[0m \u001b[1;33m\u001b[0m\u001b[0m\n\u001b[0;32m     75\u001b[0m         \u001b[1;32mtry\u001b[0m\u001b[1;33m:\u001b[0m\u001b[1;33m\u001b[0m\u001b[1;33m\u001b[0m\u001b[0m\n",
      "\u001b[1;32mC:\\ProgramData\\Anaconda3\\lib\\site-packages\\selenium\\webdriver\\common\\service.py\u001b[0m in \u001b[0;36mstart\u001b[1;34m(self)\u001b[0m\n\u001b[0;32m     79\u001b[0m         \u001b[1;32mexcept\u001b[0m \u001b[0mOSError\u001b[0m \u001b[1;32mas\u001b[0m \u001b[0merr\u001b[0m\u001b[1;33m:\u001b[0m\u001b[1;33m\u001b[0m\u001b[1;33m\u001b[0m\u001b[0m\n\u001b[0;32m     80\u001b[0m             \u001b[1;32mif\u001b[0m \u001b[0merr\u001b[0m\u001b[1;33m.\u001b[0m\u001b[0merrno\u001b[0m \u001b[1;33m==\u001b[0m \u001b[0merrno\u001b[0m\u001b[1;33m.\u001b[0m\u001b[0mENOENT\u001b[0m\u001b[1;33m:\u001b[0m\u001b[1;33m\u001b[0m\u001b[1;33m\u001b[0m\u001b[0m\n\u001b[1;32m---> 81\u001b[1;33m                 raise WebDriverException(\n\u001b[0m\u001b[0;32m     82\u001b[0m                     \"'%s' executable needs to be in PATH. %s\" % (\n\u001b[0;32m     83\u001b[0m                         os.path.basename(self.path), self.start_error_message)\n",
      "\u001b[1;31mWebDriverException\u001b[0m: Message: 'chromedriver' executable needs to be in PATH. Please see https://sites.google.com/a/chromium.org/chromedriver/home\n"
     ]
    }
   ],
   "source": [
    "# 크롬 드라이버를 통한 네이버 접속\n",
    "\n",
    "driver = webdriver.Chrome(\"./driver/chromedriver\")\n",
    "driver.get(\"https://news.naver.com//main/read.naver?mode=LSD&mid=shm&sid1=102&oid=001&aid=0012587876\")\n"
   ]
  },
  {
   "cell_type": "code",
   "execution_count": null,
   "id": "155e11e0",
   "metadata": {},
   "outputs": [],
   "source": [
    "driver.page_source # 전체 페이지 소스 로딩"
   ]
  },
  {
   "cell_type": "code",
   "execution_count": 18,
   "id": "8603b683",
   "metadata": {},
   "outputs": [
    {
     "data": {
      "text/plain": [
       "['801']"
      ]
     },
     "execution_count": 18,
     "metadata": {},
     "output_type": "execute_result"
    }
   ],
   "source": [
    "\n",
    "like_list = driver.find_elements_by_css_selector(\"span.u_likeit_text._count.num\")\n",
    "like_num = [like.text for like in like_list ]\n",
    "like_num"
   ]
  },
  {
   "cell_type": "code",
   "execution_count": null,
   "id": "35e7ec25",
   "metadata": {},
   "outputs": [],
   "source": [
    "#articleTitleCommentCount > span.lo_txt"
   ]
  },
  {
   "cell_type": "code",
   "execution_count": 22,
   "id": "2837c420",
   "metadata": {},
   "outputs": [
    {
     "data": {
      "text/plain": [
       "['463']"
      ]
     },
     "execution_count": 22,
     "metadata": {},
     "output_type": "execute_result"
    }
   ],
   "source": [
    "rep_list = driver.find_elements_by_css_selector(\"span.lo_txt\")\n",
    "rep_num = [rep.text for rep in rep_list ]\n",
    "rep_num"
   ]
  },
  {
   "cell_type": "code",
   "execution_count": 35,
   "id": "95193fdf",
   "metadata": {},
   "outputs": [],
   "source": [
    "# 전달된 뉴스  url의 기사에서 기사제목 기사입력시간을 반환하는 함수\n",
    "def get_news_sub_info(url) :\n",
    "    \n",
    "    #1.전달된 url에 접속 후 응답객체 반환\n",
    "    headers ={\"User-Agent\" : \n",
    "          \"Mozilla/5.0(Window NT 10.0;Win64;x64) AppleWebKit/537.36 (KHTML,likeGecko) Chrome/87.0.4280.88 Safari/537.36\"}\n",
    "    result = requests.get(url,headers=headers)\n",
    "    \n",
    "    #2.bs4 객체 생성\n",
    "    bs_obj=BeautifulSoup(result.content,\"html.parser\")\n",
    "    \n",
    "    #3.필요 데이터 추출\n",
    "    # 기사 제목 추출(태그객체)\n",
    "    title =bs_obj.find(id='articleTitle')\n",
    "    # 기사 입력시간 추출(태그객체)\n",
    "    date_time = bs_obj.find(\"span\",{\"class\":\"t11\"})\n",
    "    \n",
    "    #4.  webdriver  이용해서 좋아요 수를 반환\n",
    "    driver = webdriver.Chrome(\"./driver/chromedriver\")\n",
    "    driver.get(url)\n",
    "    # 좋아요 수\n",
    "    like_list = driver.find_elements_by_css_selector(\"span.u_likeit_text._count.num\")\n",
    "    like_num = [like.text for like in like_list ]\n",
    "    print(like_num)\n",
    "    #댓글 수\n",
    "    rep_list = driver.find_elements_by_css_selector(\"span.lo_txt\")\n",
    "    rep_num = [rep.text for rep in rep_list ]\n",
    "    print(rep_num)\n",
    "    \n",
    "    #5.수집 데이터 dict로 구성 후 반환\n",
    "    dict_sub ={}\n",
    "    dict_sub[\"기사제목\"] = title.text\n",
    "    dict_sub[\"기사 입력 시간\"]=date_time.text\n",
    "    dict_sub['좋아요 수'] = like_num\n",
    "    dict_sub['댓글 수'] =  rep_num\n",
    "    \n",
    "    return dict_sub "
   ]
  },
  {
   "cell_type": "code",
   "execution_count": 36,
   "id": "4eeea99e",
   "metadata": {},
   "outputs": [
    {
     "name": "stdout",
     "output_type": "stream",
     "text": [
      "['https://news.naver.com//main/read.naver?mode=LSD&mid=shm&sid1=101&oid=421&aid=0005531266', 'https://news.naver.com//main/read.naver?mode=LSD&mid=shm&sid1=101&oid=421&aid=0005531314', 'https://news.naver.com//main/read.naver?mode=LSD&mid=shm&sid1=100&oid=003&aid=0010654798', 'https://news.naver.com//main/read.naver?mode=LSD&mid=shm&sid1=102&oid=003&aid=0010655146', 'https://news.naver.com//main/read.naver?mode=LSD&mid=shm&sid1=101&oid=277&aid=0004950779']\n"
     ]
    }
   ],
   "source": [
    "url = \"https://news.naver.com\"\n",
    "headers={\"User-Agent\":\n",
    "             \"Mozilla/5.0(Window NT 10.0;Win64;x64) AppleWebKit/537.36 (KHTML,likeGecko) Chrome/87.0.4280.88 Safari/537.36\"}\n",
    "result = requests.get(url,headers=headers)\n",
    "\n",
    "bs_obj = BeautifulSoup(result.content,\"html.parser\")\n",
    "\n",
    "#ul 태그 추출 : class:hdline_article_list\n",
    "news_list = bs_obj.find(\"ul\",{\"class\":\"hdline_article_list\"})\n",
    "#모든 li 추출\n",
    "lis = news_list.findAll(\"li\")\n",
    "\n",
    "#헤드라인뉴스 link 저장 - list\n",
    "link_list=[]\n",
    "for li in lis :\n",
    "    a_tag = li.find(\"a\")\n",
    "    link_list.append(\"https://news.naver.com/\"+a_tag[\"href\"])\n",
    "print(link_list)"
   ]
  },
  {
   "cell_type": "code",
   "execution_count": 37,
   "id": "07834af5",
   "metadata": {},
   "outputs": [
    {
     "name": "stdout",
     "output_type": "stream",
     "text": [
      "[]\n",
      "['']\n",
      "{'기사제목': '대신證, 라임펀드 최대 80% 배상 권고안 수용…\"재발방지 노력\"', '기사 입력 시간': '2021.08.09. 오후 2:07', '좋아요 수': [], '댓글 수': ['']}\n",
      "[]\n",
      "['']\n",
      "{'기사제목': '\"中企·중견 올스톱 수출 지원\"…CJ대한통운, \\'글로벌 e-풀필먼트\\' 개장', '기사 입력 시간': '2021.08.09. 오후 2:24', '좋아요 수': [], '댓글 수': ['']}\n",
      "[]\n",
      "['']\n",
      "{'기사제목': '\\'이재용 가석방\\' 심사에 與 \"법 위 삼성 안 돼\" 반대', '기사 입력 시간': '2021.08.09. 오후 12:21', '좋아요 수': [], '댓글 수': ['']}\n",
      "[]\n",
      "['']\n",
      "{'기사제목': '전남도, 9일부터 18~49세 백신접종 10부제 예약', '기사 입력 시간': '2021.08.09. 오후 2:26', '좋아요 수': [], '댓글 수': ['']}\n",
      "[]\n",
      "['']\n",
      "{'기사제목': '에디슨모터스, 키스톤PE·KCGI 손잡고 쌍용차 인수 컨소시엄 구성', '기사 입력 시간': '2021.08.09. 오전 11:41', '좋아요 수': [], '댓글 수': ['']}\n"
     ]
    }
   ],
   "source": [
    "for number in range(len(link_list)) :\n",
    "    res = get_news_sub_info(link_list[number])\n",
    "    print(res)"
   ]
  },
  {
   "cell_type": "code",
   "execution_count": null,
   "id": "7f9ba012",
   "metadata": {},
   "outputs": [],
   "source": []
  }
 ],
 "metadata": {
  "kernelspec": {
   "display_name": "Python 3",
   "language": "python",
   "name": "python3"
  },
  "language_info": {
   "codemirror_mode": {
    "name": "ipython",
    "version": 3
   },
   "file_extension": ".py",
   "mimetype": "text/x-python",
   "name": "python",
   "nbconvert_exporter": "python",
   "pygments_lexer": "ipython3",
   "version": "3.8.8"
  }
 },
 "nbformat": 4,
 "nbformat_minor": 5
}
